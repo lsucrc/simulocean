{
 "cells": [
  {
   "cell_type": "code",
   "execution_count": 1,
   "metadata": {},
   "outputs": [],
   "source": [
    "import os, errno\n",
    "import pandas as pd\n",
    "import urllib.request\n",
    "from celery import Celery\n",
    "from tasks import data_pull\n"
   ]
  },
  {
   "cell_type": "code",
   "execution_count": 2,
   "metadata": {},
   "outputs": [],
   "source": [
    "stationid_list = []\n",
    "year_list = []\n",
    "datatype_list = []\n",
    "urldata_list = []\n",
    "\n",
    "\n",
    "def data_select():\n",
    "\n",
    "\n",
    "    stationid = str(input('Please enter station ID: '))\n",
    "    stationid = stationid.lower()\n",
    "    stationid_list.append(stationid)\n",
    "\n",
    "    year = str(input('From which year? '))\n",
    "    year_list.append(year)\n",
    "    while True:\n",
    "        datatype = str(input(\"Which type of data? \"))\n",
    "        if datatype == 'Standard Meteorological':\n",
    "            datatype = 'h'\n",
    "            urldata = 'stdmet'\n",
    "            break\n",
    "        elif datatype == 'test':\n",
    "            datatype = 'h'\n",
    "            urldata = 'stdmet'\n",
    "            break\n",
    "        elif datatype == 'Continuous Winds':\n",
    "            datatype = 'c'\n",
    "            urldata = 'cwind'\n",
    "            break\n",
    "        elif datatype == 'Ocean Current':\n",
    "            datatype = 'a'\n",
    "            urldata = 'adcp'\n",
    "            break\n",
    "        elif datatype == 'Oceanographic':\n",
    "            datatype = 'o'\n",
    "            urldata = 'ocean'\n",
    "            break\n",
    "        elif datatype == 'Spectral Wave Density':\n",
    "            datatype = 'w'\n",
    "            urldata = 'swden'\n",
    "            break\n",
    "        elif datatype == 'Spectral Wave alpha1':\n",
    "            datatype = 'd'\n",
    "            urldata = 'swdir'\n",
    "            break\n",
    "        elif datatype == 'Spectral Wave alpha2':\n",
    "            datatype = 'i'\n",
    "            urldata = 'swdir2'\n",
    "            break\n",
    "        elif datatype == 'Spectral Wave r1':\n",
    "            datatype = 'j'\n",
    "            urldata = 'swr1'\n",
    "            break\n",
    "        elif datatype == 'Spectral Wave r2':\n",
    "            datatype = 'k'\n",
    "            urldata = 'swr2'\n",
    "            break\n",
    "        elif datatype == 'Water-column Height':\n",
    "            datatype = 't'\n",
    "            urldata = 'dart'\n",
    "            break\n",
    "        else:\n",
    "            print(\"Invalid data type.\")\n",
    "    datatype_list.append(datatype)\n",
    "    urldata_list.append(urldata)\n",
    "\n",
    "    return stationid_list, year_list, datatype_list, urldata_list"
   ]
  },
  {
   "cell_type": "code",
   "execution_count": null,
   "metadata": {},
   "outputs": [],
   "source": [
    "\n"
   ]
  },
  {
   "cell_type": "code",
   "execution_count": 3,
   "metadata": {},
   "outputs": [
    {
     "name": "stdout",
     "output_type": "stream",
     "text": [
      "How many stations/years? 4\n",
      "Please enter station ID: 1\n",
      "From which year? 1970\n",
      "Which type of data? test\n",
      "Please enter station ID: 41004\n",
      "From which year? 2004\n",
      "Which type of data? test\n",
      "Please enter station ID: 41004\n",
      "From which year? 2005\n",
      "Which type of data? test\n",
      "Please enter station ID: 41004\n",
      "From which year? 2006\n",
      "Which type of data? test\n"
     ]
    }
   ],
   "source": [
    "def main():\n",
    "    count = 0\n",
    "\n",
    "\n",
    "    stationcount = int(input('How many stations/years? '))\n",
    "    while count < stationcount:\n",
    "\n",
    "        stationid_list, year_list, datatype_list, urldata_list = data_select()\n",
    "        count += 1\n",
    "\n",
    "    data_pull.delay(stationid_list, year_list, datatype_list, urldata_list, stationcount)\n",
    "\n",
    "\n",
    "\n",
    "\n",
    "main()"
   ]
  },
  {
   "cell_type": "code",
   "execution_count": null,
   "metadata": {},
   "outputs": [],
   "source": []
  }
 ],
 "metadata": {
  "kernelspec": {
   "display_name": "Python 3",
   "language": "python",
   "name": "python3"
  },
  "language_info": {
   "codemirror_mode": {
    "name": "ipython",
    "version": 3
   },
   "file_extension": ".py",
   "mimetype": "text/x-python",
   "name": "python",
   "nbconvert_exporter": "python",
   "pygments_lexer": "ipython3",
   "version": "3.5.3"
  }
 },
 "nbformat": 4,
 "nbformat_minor": 2
}
